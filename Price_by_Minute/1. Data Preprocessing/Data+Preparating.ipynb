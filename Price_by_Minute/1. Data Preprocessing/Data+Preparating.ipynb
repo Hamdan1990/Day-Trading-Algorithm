{
 "cells": [
  {
   "cell_type": "code",
   "execution_count": 2,
   "metadata": {
    "collapsed": true
   },
   "outputs": [],
   "source": [
    "import numpy as np\n",
    "import pandas as pd\n",
    "import matplotlib.pyplot as plt"
   ]
  },
  {
   "cell_type": "code",
   "execution_count": 118,
   "metadata": {
    "collapsed": false
   },
   "outputs": [],
   "source": [
    "# Getting the Minute by Minute Stock Price Data From Quantopian API\n",
    "start = \"2017-11-20\"\n",
    "end = '2017-11-24'\n",
    "frequency = 'minute'\n",
    "AAL= get_pricing(\"AAL\", start_date=start, end_date=end, frequency=frequency)\n",
    "UAL= get_pricing(\"UAL\", start_date=start, end_date=end, frequency=frequency)\n",
    "OIL= get_pricing(\"OIL\", start_date=start, end_date=end, frequency=frequency)"
   ]
  },
  {
   "cell_type": "code",
   "execution_count": 119,
   "metadata": {
    "collapsed": false
   },
   "outputs": [
    {
     "data": {
      "text/html": [
       "<div>\n",
       "<table border=\"1\" class=\"dataframe\">\n",
       "  <thead>\n",
       "    <tr style=\"text-align: right;\">\n",
       "      <th></th>\n",
       "      <th>open_price</th>\n",
       "      <th>high</th>\n",
       "      <th>low</th>\n",
       "      <th>close_price</th>\n",
       "      <th>volume</th>\n",
       "      <th>price</th>\n",
       "    </tr>\n",
       "  </thead>\n",
       "  <tbody>\n",
       "    <tr>\n",
       "      <th>2017-11-20 14:31:00+00:00</th>\n",
       "      <td>47.330</td>\n",
       "      <td>47.39</td>\n",
       "      <td>47.200</td>\n",
       "      <td>47.20</td>\n",
       "      <td>36156.0</td>\n",
       "      <td>47.20</td>\n",
       "    </tr>\n",
       "    <tr>\n",
       "      <th>2017-11-20 14:32:00+00:00</th>\n",
       "      <td>47.195</td>\n",
       "      <td>47.31</td>\n",
       "      <td>47.195</td>\n",
       "      <td>47.31</td>\n",
       "      <td>2200.0</td>\n",
       "      <td>47.31</td>\n",
       "    </tr>\n",
       "    <tr>\n",
       "      <th>2017-11-20 14:33:00+00:00</th>\n",
       "      <td>47.303</td>\n",
       "      <td>47.36</td>\n",
       "      <td>47.300</td>\n",
       "      <td>47.36</td>\n",
       "      <td>2600.0</td>\n",
       "      <td>47.36</td>\n",
       "    </tr>\n",
       "    <tr>\n",
       "      <th>2017-11-20 14:34:00+00:00</th>\n",
       "      <td>47.360</td>\n",
       "      <td>47.39</td>\n",
       "      <td>47.340</td>\n",
       "      <td>47.39</td>\n",
       "      <td>5356.0</td>\n",
       "      <td>47.39</td>\n",
       "    </tr>\n",
       "    <tr>\n",
       "      <th>2017-11-20 14:35:00+00:00</th>\n",
       "      <td>47.371</td>\n",
       "      <td>47.43</td>\n",
       "      <td>47.350</td>\n",
       "      <td>47.43</td>\n",
       "      <td>4500.0</td>\n",
       "      <td>47.43</td>\n",
       "    </tr>\n",
       "  </tbody>\n",
       "</table>\n",
       "</div>"
      ],
      "text/plain": [
       "                           open_price   high     low  close_price   volume  \\\n",
       "2017-11-20 14:31:00+00:00      47.330  47.39  47.200        47.20  36156.0   \n",
       "2017-11-20 14:32:00+00:00      47.195  47.31  47.195        47.31   2200.0   \n",
       "2017-11-20 14:33:00+00:00      47.303  47.36  47.300        47.36   2600.0   \n",
       "2017-11-20 14:34:00+00:00      47.360  47.39  47.340        47.39   5356.0   \n",
       "2017-11-20 14:35:00+00:00      47.371  47.43  47.350        47.43   4500.0   \n",
       "\n",
       "                           price  \n",
       "2017-11-20 14:31:00+00:00  47.20  \n",
       "2017-11-20 14:32:00+00:00  47.31  \n",
       "2017-11-20 14:33:00+00:00  47.36  \n",
       "2017-11-20 14:34:00+00:00  47.39  \n",
       "2017-11-20 14:35:00+00:00  47.43  "
      ]
     },
     "execution_count": 119,
     "metadata": {},
     "output_type": "execute_result"
    }
   ],
   "source": [
    "AAL.head()"
   ]
  },
  {
   "cell_type": "code",
   "execution_count": 20,
   "metadata": {
    "collapsed": false,
    "scrolled": true
   },
   "outputs": [
    {
     "data": {
      "text/html": [
       "<div>\n",
       "<table border=\"1\" class=\"dataframe\">\n",
       "  <thead>\n",
       "    <tr style=\"text-align: right;\">\n",
       "      <th></th>\n",
       "      <th>open_price</th>\n",
       "      <th>high</th>\n",
       "      <th>low</th>\n",
       "      <th>close_price</th>\n",
       "      <th>volume</th>\n",
       "      <th>price</th>\n",
       "    </tr>\n",
       "  </thead>\n",
       "  <tbody>\n",
       "    <tr>\n",
       "      <th>2017-11-20 14:31:00+00:00</th>\n",
       "      <td>58.260</td>\n",
       "      <td>58.260</td>\n",
       "      <td>58.01</td>\n",
       "      <td>58.03</td>\n",
       "      <td>23642.0</td>\n",
       "      <td>58.03</td>\n",
       "    </tr>\n",
       "    <tr>\n",
       "      <th>2017-11-20 14:32:00+00:00</th>\n",
       "      <td>58.055</td>\n",
       "      <td>58.100</td>\n",
       "      <td>57.97</td>\n",
       "      <td>57.98</td>\n",
       "      <td>13933.0</td>\n",
       "      <td>57.98</td>\n",
       "    </tr>\n",
       "    <tr>\n",
       "      <th>2017-11-20 14:33:00+00:00</th>\n",
       "      <td>58.000</td>\n",
       "      <td>58.000</td>\n",
       "      <td>57.90</td>\n",
       "      <td>57.92</td>\n",
       "      <td>7760.0</td>\n",
       "      <td>57.92</td>\n",
       "    </tr>\n",
       "    <tr>\n",
       "      <th>2017-11-20 14:34:00+00:00</th>\n",
       "      <td>57.910</td>\n",
       "      <td>57.965</td>\n",
       "      <td>57.88</td>\n",
       "      <td>57.89</td>\n",
       "      <td>10807.0</td>\n",
       "      <td>57.89</td>\n",
       "    </tr>\n",
       "    <tr>\n",
       "      <th>2017-11-20 14:35:00+00:00</th>\n",
       "      <td>57.950</td>\n",
       "      <td>57.950</td>\n",
       "      <td>57.82</td>\n",
       "      <td>57.94</td>\n",
       "      <td>21840.0</td>\n",
       "      <td>57.94</td>\n",
       "    </tr>\n",
       "  </tbody>\n",
       "</table>\n",
       "</div>"
      ],
      "text/plain": [
       "                           open_price    high    low  close_price   volume  \\\n",
       "2017-11-20 14:31:00+00:00      58.260  58.260  58.01        58.03  23642.0   \n",
       "2017-11-20 14:32:00+00:00      58.055  58.100  57.97        57.98  13933.0   \n",
       "2017-11-20 14:33:00+00:00      58.000  58.000  57.90        57.92   7760.0   \n",
       "2017-11-20 14:34:00+00:00      57.910  57.965  57.88        57.89  10807.0   \n",
       "2017-11-20 14:35:00+00:00      57.950  57.950  57.82        57.94  21840.0   \n",
       "\n",
       "                           price  \n",
       "2017-11-20 14:31:00+00:00  58.03  \n",
       "2017-11-20 14:32:00+00:00  57.98  \n",
       "2017-11-20 14:33:00+00:00  57.92  \n",
       "2017-11-20 14:34:00+00:00  57.89  \n",
       "2017-11-20 14:35:00+00:00  57.94  "
      ]
     },
     "execution_count": 20,
     "metadata": {},
     "output_type": "execute_result"
    }
   ],
   "source": [
    "UAL.head()"
   ]
  },
  {
   "cell_type": "code",
   "execution_count": 21,
   "metadata": {
    "collapsed": false
   },
   "outputs": [
    {
     "data": {
      "text/html": [
       "<div>\n",
       "<table border=\"1\" class=\"dataframe\">\n",
       "  <thead>\n",
       "    <tr style=\"text-align: right;\">\n",
       "      <th></th>\n",
       "      <th>open_price</th>\n",
       "      <th>high</th>\n",
       "      <th>low</th>\n",
       "      <th>close_price</th>\n",
       "      <th>volume</th>\n",
       "      <th>price</th>\n",
       "    </tr>\n",
       "  </thead>\n",
       "  <tbody>\n",
       "    <tr>\n",
       "      <th>2017-11-20 14:31:00+00:00</th>\n",
       "      <td>5.990</td>\n",
       "      <td>5.990</td>\n",
       "      <td>5.980</td>\n",
       "      <td>5.981</td>\n",
       "      <td>39866.0</td>\n",
       "      <td>5.981</td>\n",
       "    </tr>\n",
       "    <tr>\n",
       "      <th>2017-11-20 14:32:00+00:00</th>\n",
       "      <td>NaN</td>\n",
       "      <td>NaN</td>\n",
       "      <td>NaN</td>\n",
       "      <td>NaN</td>\n",
       "      <td>0.0</td>\n",
       "      <td>5.981</td>\n",
       "    </tr>\n",
       "    <tr>\n",
       "      <th>2017-11-20 14:33:00+00:00</th>\n",
       "      <td>NaN</td>\n",
       "      <td>NaN</td>\n",
       "      <td>NaN</td>\n",
       "      <td>NaN</td>\n",
       "      <td>0.0</td>\n",
       "      <td>5.981</td>\n",
       "    </tr>\n",
       "    <tr>\n",
       "      <th>2017-11-20 14:34:00+00:00</th>\n",
       "      <td>5.985</td>\n",
       "      <td>5.985</td>\n",
       "      <td>5.985</td>\n",
       "      <td>5.985</td>\n",
       "      <td>100.0</td>\n",
       "      <td>5.985</td>\n",
       "    </tr>\n",
       "    <tr>\n",
       "      <th>2017-11-20 14:35:00+00:00</th>\n",
       "      <td>5.980</td>\n",
       "      <td>5.990</td>\n",
       "      <td>5.980</td>\n",
       "      <td>5.990</td>\n",
       "      <td>1990.0</td>\n",
       "      <td>5.990</td>\n",
       "    </tr>\n",
       "  </tbody>\n",
       "</table>\n",
       "</div>"
      ],
      "text/plain": [
       "                           open_price   high    low  close_price   volume  \\\n",
       "2017-11-20 14:31:00+00:00       5.990  5.990  5.980        5.981  39866.0   \n",
       "2017-11-20 14:32:00+00:00         NaN    NaN    NaN          NaN      0.0   \n",
       "2017-11-20 14:33:00+00:00         NaN    NaN    NaN          NaN      0.0   \n",
       "2017-11-20 14:34:00+00:00       5.985  5.985  5.985        5.985    100.0   \n",
       "2017-11-20 14:35:00+00:00       5.980  5.990  5.980        5.990   1990.0   \n",
       "\n",
       "                           price  \n",
       "2017-11-20 14:31:00+00:00  5.981  \n",
       "2017-11-20 14:32:00+00:00  5.981  \n",
       "2017-11-20 14:33:00+00:00  5.981  \n",
       "2017-11-20 14:34:00+00:00  5.985  \n",
       "2017-11-20 14:35:00+00:00  5.990  "
      ]
     },
     "execution_count": 21,
     "metadata": {},
     "output_type": "execute_result"
    }
   ],
   "source": [
    "OIL.head()"
   ]
  },
  {
   "cell_type": "code",
   "execution_count": 23,
   "metadata": {
    "collapsed": false
   },
   "outputs": [
    {
     "data": {
      "text/plain": [
       "True"
      ]
     },
     "execution_count": 23,
     "metadata": {},
     "output_type": "execute_result"
    }
   ],
   "source": [
    "# Verify that the dimensions of all three Datasets are the same\n",
    "OIL.shape == UAL.shape == AAL.shape"
   ]
  },
  {
   "cell_type": "code",
   "execution_count": 24,
   "metadata": {
    "collapsed": false
   },
   "outputs": [
    {
     "data": {
      "text/plain": [
       "<matplotlib.legend.Legend at 0x7fd79cf18f50>"
      ]
     },
     "execution_count": 24,
     "metadata": {},
     "output_type": "execute_result"
    },
    {
     "data": {
      "image/png": "[encoded data removed]",
      "text/plain": [
       "<matplotlib.figure.Figure at 0x7fd79cf18450>"
      ]
     },
     "metadata": {},
     "output_type": "display_data"
    }
   ],
   "source": [
    "UAL['price'].plot(figsize = (16,8), label = \"UAL\")\n",
    "AAL['price'].plot( label = \"AAL\")\n",
    "OIL['price'].plot( label = \"OIL\")\n",
    "plt.legend()"
   ]
  },
  {
   "cell_type": "code",
   "execution_count": 68,
   "metadata": {
    "collapsed": false
   },
   "outputs": [],
   "source": [
    "# Getting All price rows except the last hour\n",
    "American = AAL['price'].head(AAL.shape[0]-60)\n",
    "United = UAL['price'].head(UAL.shape[0]-60)\n",
    "CrudeOil = OIL['price'].head(OIL.shape[0]-60)"
   ]
  },
  {
   "cell_type": "code",
   "execution_count": 74,
   "metadata": {
    "collapsed": false
   },
   "outputs": [],
   "source": [
    "# Creating the Training Set\n",
    "Train = pd.concat([American, United, CrudeOil] , axis = 1)\n",
    "Train.columns = [\"AAL\" , \"UAL\", \"OIL\"]"
   ]
  },
  {
   "cell_type": "code",
   "execution_count": 120,
   "metadata": {
    "collapsed": false
   },
   "outputs": [
    {
     "data": {
      "text/html": [
       "<div>\n",
       "<table border=\"1\" class=\"dataframe\">\n",
       "  <thead>\n",
       "    <tr style=\"text-align: right;\">\n",
       "      <th></th>\n",
       "      <th>AAL</th>\n",
       "      <th>UAL</th>\n",
       "      <th>OIL</th>\n",
       "    </tr>\n",
       "  </thead>\n",
       "  <tbody>\n",
       "    <tr>\n",
       "      <th>2017-11-20 14:31:00+00:00</th>\n",
       "      <td>47.20</td>\n",
       "      <td>58.03</td>\n",
       "      <td>5.981</td>\n",
       "    </tr>\n",
       "    <tr>\n",
       "      <th>2017-11-20 14:32:00+00:00</th>\n",
       "      <td>47.31</td>\n",
       "      <td>57.98</td>\n",
       "      <td>5.981</td>\n",
       "    </tr>\n",
       "    <tr>\n",
       "      <th>2017-11-20 14:33:00+00:00</th>\n",
       "      <td>47.36</td>\n",
       "      <td>57.92</td>\n",
       "      <td>5.981</td>\n",
       "    </tr>\n",
       "    <tr>\n",
       "      <th>2017-11-20 14:34:00+00:00</th>\n",
       "      <td>47.39</td>\n",
       "      <td>57.89</td>\n",
       "      <td>5.985</td>\n",
       "    </tr>\n",
       "    <tr>\n",
       "      <th>2017-11-20 14:35:00+00:00</th>\n",
       "      <td>47.43</td>\n",
       "      <td>57.94</td>\n",
       "      <td>5.990</td>\n",
       "    </tr>\n",
       "  </tbody>\n",
       "</table>\n",
       "</div>"
      ],
      "text/plain": [
       "                             AAL    UAL    OIL\n",
       "2017-11-20 14:31:00+00:00  47.20  58.03  5.981\n",
       "2017-11-20 14:32:00+00:00  47.31  57.98  5.981\n",
       "2017-11-20 14:33:00+00:00  47.36  57.92  5.981\n",
       "2017-11-20 14:34:00+00:00  47.39  57.89  5.985\n",
       "2017-11-20 14:35:00+00:00  47.43  57.94  5.990"
      ]
     },
     "execution_count": 120,
     "metadata": {},
     "output_type": "execute_result"
    }
   ],
   "source": [
    "Train.head()"
   ]
  },
  {
   "cell_type": "code",
   "execution_count": 77,
   "metadata": {
    "collapsed": false
   },
   "outputs": [],
   "source": [
    "# Getting Only the Last hour Stock Prices\n",
    "American = AAL['price'].tail(60)\n",
    "United = UAL['price'].tail(60)\n",
    "CrudeOil = OIL['price'].tail(60)"
   ]
  },
  {
   "cell_type": "code",
   "execution_count": 81,
   "metadata": {
    "collapsed": false
   },
   "outputs": [],
   "source": [
    "# Creating the Test Set\n",
    "Test = pd.concat([American, United, CrudeOil] , axis = 1)\n",
    "Test.columns = [\"AAL\" , \"UAL\", \"OIL\"]"
   ]
  },
  {
   "cell_type": "code",
   "execution_count": 84,
   "metadata": {
    "collapsed": false
   },
   "outputs": [
    {
     "ename": "SandboxViolation",
     "evalue": "Blacklisted attribute within module to_csv",
     "output_type": "error",
     "traceback": [
      "InputRejected:",
      "Blacklisted attribute within module to_csv"
     ]
    }
   ],
   "source": [
    "# Exporting Training Set and Test Set to excel\n",
    "Train.to_csv(\"TrainingSet.csv\")\n",
    "Test.to_csv(\"TestSet.csv\")"
   ]
  },
  {
   "cell_type": "code",
   "execution_count": 122,
   "metadata": {
    "collapsed": false
   },
   "outputs": [
    {
     "data": {
      "text/html": [
       "<div>\n",
       "<table border=\"1\" class=\"dataframe\">\n",
       "  <thead>\n",
       "    <tr style=\"text-align: right;\">\n",
       "      <th></th>\n",
       "      <th>AAL</th>\n",
       "      <th>UAL</th>\n",
       "      <th>OIL</th>\n",
       "    </tr>\n",
       "  </thead>\n",
       "  <tbody>\n",
       "    <tr>\n",
       "      <th>2017-11-24 17:01:00+00:00</th>\n",
       "      <td>48.665</td>\n",
       "      <td>59.680</td>\n",
       "      <td>6.355</td>\n",
       "    </tr>\n",
       "    <tr>\n",
       "      <th>2017-11-24 17:02:00+00:00</th>\n",
       "      <td>48.680</td>\n",
       "      <td>59.685</td>\n",
       "      <td>6.351</td>\n",
       "    </tr>\n",
       "    <tr>\n",
       "      <th>2017-11-24 17:03:00+00:00</th>\n",
       "      <td>48.670</td>\n",
       "      <td>59.680</td>\n",
       "      <td>6.350</td>\n",
       "    </tr>\n",
       "    <tr>\n",
       "      <th>2017-11-24 17:04:00+00:00</th>\n",
       "      <td>48.680</td>\n",
       "      <td>59.690</td>\n",
       "      <td>6.350</td>\n",
       "    </tr>\n",
       "    <tr>\n",
       "      <th>2017-11-24 17:05:00+00:00</th>\n",
       "      <td>48.710</td>\n",
       "      <td>59.680</td>\n",
       "      <td>6.350</td>\n",
       "    </tr>\n",
       "  </tbody>\n",
       "</table>\n",
       "</div>"
      ],
      "text/plain": [
       "                              AAL     UAL    OIL\n",
       "2017-11-24 17:01:00+00:00  48.665  59.680  6.355\n",
       "2017-11-24 17:02:00+00:00  48.680  59.685  6.351\n",
       "2017-11-24 17:03:00+00:00  48.670  59.680  6.350\n",
       "2017-11-24 17:04:00+00:00  48.680  59.690  6.350\n",
       "2017-11-24 17:05:00+00:00  48.710  59.680  6.350"
      ]
     },
     "execution_count": 122,
     "metadata": {},
     "output_type": "execute_result"
    }
   ],
   "source": [
    "Test.head()"
   ]
  },
  {
   "cell_type": "code",
   "execution_count": null,
   "metadata": {
    "collapsed": true
   },
   "outputs": [],
   "source": []
  }
 ],
 "metadata": {
  "kernelspec": {
   "display_name": "Python 2",
   "language": "python",
   "name": "python2"
  },
  "language_info": {
   "codemirror_mode": {
    "name": "ipython",
    "version": 2
   },
   "file_extension": ".py",
   "mimetype": "text/x-python",
   "name": "python",
   "nbconvert_exporter": "python",
   "pygments_lexer": "ipython2",
   "version": "2.7.12"
  }
 },
 "nbformat": 4,
 "nbformat_minor": 2
}