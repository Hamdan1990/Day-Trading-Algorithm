{
 "cells": [
  {
   "cell_type": "code",
   "execution_count": 1,
   "metadata": {
    "collapsed": true
   },
   "outputs": [],
   "source": [
    "import numpy as np\n",
    "import pandas as pd\n",
    "import matplotlib.pyplot as plt\n",
    "%matplotlib inline"
   ]
  },
  {
   "cell_type": "code",
   "execution_count": 2,
   "metadata": {
    "collapsed": true
   },
   "outputs": [],
   "source": [
    "AirLineOil_Train = pd.read_csv('Training.csv', index_col = 'Date', infer_datetime_format=True)\n",
    "\n",
    "#Getting Dimensions\n",
    "TotalRows = AirLineOil_Train.shape[0]\n",
    "TotalColumns = AirLineOil_Train.shape[1]\n",
    "\n",
    "#Need to convert the training set into a numpy array as keras only takes in numpy array\n",
    "train_set  = AirLineOil_Train.values.reshape(TotalRows, TotalColumns)"
   ]
  },
  {
   "cell_type": "code",
   "execution_count": 3,
   "metadata": {
    "collapsed": true
   },
   "outputs": [],
   "source": [
    "#feature scaling\n",
    "from sklearn.preprocessing import MinMaxScaler\n",
    "sc = MinMaxScaler(feature_range=(0,1))\n",
    "train_set_scaled= sc.fit_transform(train_set)"
   ]
  },
  {
   "cell_type": "code",
   "execution_count": 4,
   "metadata": {
    "collapsed": true
   },
   "outputs": [],
   "source": [
    "x_train = []\n",
    "y_train = []\n",
    "timestep = 120 # 20 Financial Days in 1 month, 120 timesteps = 12 Months (1 Financial Year)\n",
    "\n",
    "#Creating a data structure with 120 timesteps and 1 output\n",
    "\n",
    "for i in range(timestep , TotalRows):\n",
    "    x_train.append(train_set_scaled[i - timestep:i,:])\n",
    "    y_train.append(train_set_scaled[i,0])\n",
    "\n",
    "#We iterated over entire datasets, and included for each row in x_train, 120 (timestep) previous stock prices\n",
    "#and in y_train the 121th stock price. The Goal is to predict timestep + 1 stock price by using timestep stock prices.\n",
    "#In addition, we are adding multiple other indicator over here to better model the stock prices for American Airlines. \n",
    "#We have two additional indicators, United Airlines Stock Price and Crude Oil prices from OPEC."
   ]
  },
  {
   "cell_type": "code",
   "execution_count": 5,
   "metadata": {
    "collapsed": true
   },
   "outputs": [],
   "source": [
    "#Reshaping x_train and y_train to numpy array format.\n",
    "x_train , y_train = np.array(x_train) , np.array(y_train)\n",
    "\n",
    "x_train = np.reshape(a = x_train, newshape =  (x_train.shape[0], x_train.shape[1], 3) )"
   ]
  },
  {
   "cell_type": "code",
   "execution_count": 6,
   "metadata": {
    "collapsed": true
   },
   "outputs": [],
   "source": [
    "import tensorflow as tf"
   ]
  },
  {
   "cell_type": "code",
   "execution_count": 7,
   "metadata": {
    "collapsed": true
   },
   "outputs": [],
   "source": [
    "#Architecture of the recurrent neural network\n",
    "\n",
    "# Initializing the RNN\n",
    "regressor = tf.keras.models.Sequential()\n",
    "\n",
    "# Adding the first GRU layer and some Dropout regularisation\n",
    "regressor.add(tf.keras.layers.GRU(units=200, return_sequences = True, input_shape = (x_train.shape[1], 3)))\n",
    "regressor.add(tf.keras.layers.Dropout(0.5))\n",
    "\n",
    "# Adding the second GRU layer and some Dropout regularisation\n",
    "regressor.add(tf.keras.layers.GRU(units=200, return_sequences = True))\n",
    "regressor.add(tf.keras.layers.Dropout(0.5))\n",
    "\n",
    "# Adding the third GRU layer and some Dropout regularisation\n",
    "regressor.add(tf.keras.layers.GRU(units=200, return_sequences = True))\n",
    "regressor.add(tf.keras.layers.Dropout(0.5))\n",
    "\n",
    "# Adding the fourth GRU layer and some Dropout regularisation\n",
    "regressor.add(tf.keras.layers.GRU(units=200, return_sequences = True))\n",
    "regressor.add(tf.keras.layers.Dropout(0.5))\n",
    "\n",
    "# Adding the fifth GRU layer and some Dropout regularisation\n",
    "regressor.add(tf.keras.layers.GRU(units=200, return_sequences = True))\n",
    "regressor.add(tf.keras.layers.Dropout(0.5))\n",
    "\n",
    "# Adding the sixth GRU layer and some Dropout regularisation\n",
    "regressor.add(tf.keras.layers.GRU(units=200))\n",
    "regressor.add(tf.keras.layers.Dropout(0.5))\n",
    "\n",
    "\n",
    "# Adding the output layer\n",
    "regressor.add(tf.keras.layers.Dense(units=1 ))\n",
    "\n",
    "# Compiling the RNN\n",
    "regressor.compile(optimizer= 'adam', loss='mean_squared_error')"
   ]
  },
  {
   "cell_type": "code",
   "execution_count": 8,
   "metadata": {},
   "outputs": [
    {
     "name": "stdout",
     "output_type": "stream",
     "text": [
      "Epoch 1/100\n",
      "2416/2416 [==============================] - 34s - loss: 0.0170    \n",
      "Epoch 2/100\n",
      "2416/2416 [==============================] - 29s - loss: 0.0052    \n",
      "Epoch 3/100\n",
      "2416/2416 [==============================] - 30s - loss: 0.0043    \n",
      "Epoch 4/100\n",
      "2416/2416 [==============================] - 30s - loss: 0.0049    \n",
      "Epoch 5/100\n",
      "2416/2416 [==============================] - 30s - loss: 0.0030    \n",
      "Epoch 6/100\n",
      "2416/2416 [==============================] - 30s - loss: 0.0033    \n",
      "Epoch 7/100\n",
      "2416/2416 [==============================] - 30s - loss: 0.0038    \n",
      "Epoch 8/100\n",
      "2416/2416 [==============================] - 29s - loss: 0.0034    \n",
      "Epoch 9/100\n",
      "2416/2416 [==============================] - 29s - loss: 0.0026    \n",
      "Epoch 10/100\n",
      "2416/2416 [==============================] - 29s - loss: 0.0030    \n",
      "Epoch 11/100\n",
      "2416/2416 [==============================] - 36s - loss: 0.0027    \n",
      "Epoch 12/100\n",
      "2416/2416 [==============================] - 37s - loss: 0.0028    \n",
      "Epoch 13/100\n",
      "2416/2416 [==============================] - 31s - loss: 0.0027    \n",
      "Epoch 14/100\n",
      "2416/2416 [==============================] - 31s - loss: 0.0027    \n",
      "Epoch 15/100\n",
      "2416/2416 [==============================] - 30s - loss: 0.0028    \n",
      "Epoch 16/100\n",
      "2416/2416 [==============================] - 31s - loss: 0.0025    \n",
      "Epoch 17/100\n",
      "2416/2416 [==============================] - 31s - loss: 0.0023    \n",
      "Epoch 18/100\n",
      "2416/2416 [==============================] - 34s - loss: 0.0038    \n",
      "Epoch 19/100\n",
      "2416/2416 [==============================] - 34s - loss: 0.0026    \n",
      "Epoch 20/100\n",
      "2416/2416 [==============================] - 33s - loss: 0.0023    \n",
      "Epoch 21/100\n",
      "2416/2416 [==============================] - 33s - loss: 0.0022    \n",
      "Epoch 22/100\n",
      "2416/2416 [==============================] - 30s - loss: 0.0020    \n",
      "Epoch 23/100\n",
      "2416/2416 [==============================] - 32s - loss: 0.0020    \n",
      "Epoch 24/100\n",
      "2416/2416 [==============================] - 30s - loss: 0.0020    \n",
      "Epoch 25/100\n",
      "2416/2416 [==============================] - 30s - loss: 0.0021    \n",
      "Epoch 26/100\n",
      "2416/2416 [==============================] - 32s - loss: 0.0020    \n",
      "Epoch 27/100\n",
      "2416/2416 [==============================] - 29s - loss: 0.0027    \n",
      "Epoch 28/100\n",
      "2416/2416 [==============================] - 35s - loss: 0.0020    \n",
      "Epoch 29/100\n",
      "2416/2416 [==============================] - 35s - loss: 0.0018    \n",
      "Epoch 30/100\n",
      "2416/2416 [==============================] - 38s - loss: 0.0018    \n",
      "Epoch 31/100\n",
      "2416/2416 [==============================] - 36s - loss: 0.0018    \n",
      "Epoch 32/100\n",
      "2416/2416 [==============================] - 39s - loss: 0.0017    \n",
      "Epoch 33/100\n",
      "2416/2416 [==============================] - 44s - loss: 0.0018    \n",
      "Epoch 34/100\n",
      "2416/2416 [==============================] - 43s - loss: 0.0016    \n",
      "Epoch 35/100\n",
      "2416/2416 [==============================] - 38s - loss: 0.0017    \n",
      "Epoch 36/100\n",
      "2416/2416 [==============================] - 34s - loss: 0.0019    \n",
      "Epoch 37/100\n",
      "2416/2416 [==============================] - 36s - loss: 0.0016    \n",
      "Epoch 38/100\n",
      "2416/2416 [==============================] - 35s - loss: 0.0016    \n",
      "Epoch 39/100\n",
      "2416/2416 [==============================] - 34s - loss: 0.0017    \n",
      "Epoch 40/100\n",
      "2416/2416 [==============================] - 35s - loss: 0.0018    \n",
      "Epoch 41/100\n",
      "2416/2416 [==============================] - 37s - loss: 0.0016    \n",
      "Epoch 42/100\n",
      "2416/2416 [==============================] - 38s - loss: 0.0016    \n",
      "Epoch 43/100\n",
      "2416/2416 [==============================] - 35s - loss: 0.0015    \n",
      "Epoch 44/100\n",
      "2416/2416 [==============================] - 36s - loss: 0.0015    \n",
      "Epoch 45/100\n",
      "2416/2416 [==============================] - 37s - loss: 0.0014    \n",
      "Epoch 46/100\n",
      "2416/2416 [==============================] - 40s - loss: 0.0016    \n",
      "Epoch 47/100\n",
      "2416/2416 [==============================] - 35s - loss: 0.0013    \n",
      "Epoch 48/100\n",
      "2416/2416 [==============================] - 34s - loss: 0.0015    \n",
      "Epoch 49/100\n",
      "2416/2416 [==============================] - 38s - loss: 0.0014    \n",
      "Epoch 50/100\n",
      "2416/2416 [==============================] - 36s - loss: 0.0014    \n",
      "Epoch 51/100\n",
      "2416/2416 [==============================] - 35s - loss: 0.0014    \n",
      "Epoch 52/100\n",
      "2416/2416 [==============================] - 35s - loss: 0.0014    \n",
      "Epoch 53/100\n",
      "2416/2416 [==============================] - 43s - loss: 0.0015    \n",
      "Epoch 54/100\n",
      "2416/2416 [==============================] - 39s - loss: 0.0012    \n",
      "Epoch 55/100\n",
      "2416/2416 [==============================] - 41s - loss: 0.0017    \n",
      "Epoch 56/100\n",
      "2416/2416 [==============================] - 36s - loss: 0.0013    \n",
      "Epoch 57/100\n",
      "2416/2416 [==============================] - 38s - loss: 0.0012    \n",
      "Epoch 58/100\n",
      "2416/2416 [==============================] - 36s - loss: 0.0013    \n",
      "Epoch 59/100\n",
      "2416/2416 [==============================] - 35s - loss: 0.0013    \n",
      "Epoch 60/100\n",
      "2416/2416 [==============================] - 41s - loss: 0.0013    \n",
      "Epoch 61/100\n",
      "2416/2416 [==============================] - 40s - loss: 0.0012    \n",
      "Epoch 62/100\n",
      "2416/2416 [==============================] - 40s - loss: 0.0011    \n",
      "Epoch 63/100\n",
      "2416/2416 [==============================] - 36s - loss: 0.0014    \n",
      "Epoch 64/100\n",
      "2416/2416 [==============================] - 39s - loss: 0.0014    \n",
      "Epoch 65/100\n",
      "2416/2416 [==============================] - 38s - loss: 0.0010    \n",
      "Epoch 66/100\n",
      "2416/2416 [==============================] - 42s - loss: 0.0011    \n",
      "Epoch 67/100\n",
      "2416/2416 [==============================] - 43s - loss: 0.0012    \n",
      "Epoch 68/100\n",
      "2416/2416 [==============================] - 44s - loss: 0.0011    \n",
      "Epoch 69/100\n",
      "2416/2416 [==============================] - 44s - loss: 9.8641e-04    \n",
      "Epoch 70/100\n",
      "2416/2416 [==============================] - 48s - loss: 0.0011    \n",
      "Epoch 71/100\n",
      "2416/2416 [==============================] - 39s - loss: 0.0011    \n",
      "Epoch 72/100\n",
      "2416/2416 [==============================] - 36s - loss: 0.0012    \n",
      "Epoch 73/100\n",
      "2416/2416 [==============================] - 36s - loss: 0.0011    \n",
      "Epoch 74/100\n",
      "2416/2416 [==============================] - 38s - loss: 0.0011    \n",
      "Epoch 75/100\n",
      "2416/2416 [==============================] - 41s - loss: 0.0010    \n",
      "Epoch 76/100\n",
      "2416/2416 [==============================] - 38s - loss: 0.0010    \n",
      "Epoch 77/100\n",
      "2416/2416 [==============================] - 37s - loss: 0.0011    \n",
      "Epoch 78/100\n",
      "2416/2416 [==============================] - 38s - loss: 0.0012    \n",
      "Epoch 79/100\n",
      "2416/2416 [==============================] - 43s - loss: 8.6115e-04    \n",
      "Epoch 80/100\n",
      "2416/2416 [==============================] - 42s - loss: 0.0010       \n",
      "Epoch 81/100\n",
      "2416/2416 [==============================] - 46s - loss: 9.4811e-04    \n",
      "Epoch 82/100\n",
      "2416/2416 [==============================] - 44s - loss: 9.8471e-04    \n",
      "Epoch 83/100\n",
      "2416/2416 [==============================] - 42s - loss: 8.9835e-04    \n",
      "Epoch 84/100\n",
      "2416/2416 [==============================] - 42s - loss: 9.7759e-04    \n",
      "Epoch 85/100\n",
      "2416/2416 [==============================] - 36s - loss: 9.6747e-04    \n",
      "Epoch 86/100\n",
      "2416/2416 [==============================] - 36s - loss: 9.8330e-04    \n",
      "Epoch 87/100\n",
      "2416/2416 [==============================] - 35s - loss: 0.0011    \n",
      "Epoch 88/100\n",
      "2416/2416 [==============================] - 35s - loss: 9.2020e-04    \n",
      "Epoch 89/100\n",
      "2416/2416 [==============================] - 39s - loss: 0.0011    \n",
      "Epoch 90/100\n",
      "2416/2416 [==============================] - 36s - loss: 9.6462e-04    \n",
      "Epoch 91/100\n",
      "2416/2416 [==============================] - 38s - loss: 0.0012    \n",
      "Epoch 92/100\n",
      "2416/2416 [==============================] - 38s - loss: 9.2941e-04    \n",
      "Epoch 93/100\n",
      "2416/2416 [==============================] - 35s - loss: 0.0011    \n",
      "Epoch 94/100\n",
      "2416/2416 [==============================] - 35s - loss: 0.0012    \n",
      "Epoch 95/100\n",
      "2416/2416 [==============================] - 34s - loss: 0.0011    \n",
      "Epoch 96/100\n",
      "2416/2416 [==============================] - 37s - loss: 0.0012    \n",
      "Epoch 97/100\n",
      "2416/2416 [==============================] - 36s - loss: 0.0012    \n",
      "Epoch 98/100\n",
      "2416/2416 [==============================] - 38s - loss: 0.0011    \n",
      "Epoch 99/100\n",
      "2416/2416 [==============================] - 39s - loss: 0.0011    \n",
      "Epoch 100/100\n",
      "2416/2416 [==============================] - 38s - loss: 0.0010    \n"
     ]
    },
    {
     "data": {
      "text/plain": [
       "<tensorflow.python.keras._impl.keras.callbacks.History at 0x21ea1f3f7b8>"
      ]
     },
     "execution_count": 8,
     "metadata": {},
     "output_type": "execute_result"
    }
   ],
   "source": [
    "# Fitting the RNN to the Training Set\n",
    "regressor.fit(x_train, y_train, epochs = 100, batch_size = 50)"
   ]
  },
  {
   "cell_type": "code",
   "execution_count": 16,
   "metadata": {},
   "outputs": [
    {
     "name": "stderr",
     "output_type": "stream",
     "text": [
      "E:\\Anaconda3\\envs\\TensorFlow\\lib\\site-packages\\ipykernel_launcher.py:41: FutureWarning: to_datetime is deprecated. Use pd.to_datetime(...)\n"
     ]
    },
    {
     "data": {
      "text/plain": [
       "DatetimeIndex(['2017-02-01', '2017-02-02', '2017-02-03', '2017-02-06',\n",
       "               '2017-02-07', '2017-02-08', '2017-02-09', '2017-02-10',\n",
       "               '2017-02-13', '2017-02-14', '2017-02-15', '2017-02-16',\n",
       "               '2017-02-17', '2017-02-21', '2017-02-22', '2017-02-23',\n",
       "               '2017-02-24', '2017-02-27', '2017-02-28', '2017-03-01'],\n",
       "              dtype='datetime64[ns]', freq=None)"
      ]
     },
     "execution_count": 16,
     "metadata": {},
     "output_type": "execute_result"
    }
   ],
   "source": [
    "# Prediction\n",
    "\n",
    "## Here the test_set represents the real American Airlines Stock Open Price for Feb 2017 - 20 financial days\n",
    "AirLineOil_Test = pd.read_csv('Test.csv', index_col = 'Date', infer_datetime_format = True)\n",
    "\n",
    "test_set = AirLineOil_Test.values.reshape(20,3)\n",
    "\n",
    "\n",
    "\n",
    "#We trained our model to predict stock price based upon the stock prices of the last 120 financial days\n",
    "#Therefore we are going to need previous 120 days of stock prices for each financial day of Feb. in the test_set\n",
    "#Creating a DataFrame containing American Airlines Open Stock Price from both the training and test set\n",
    "AirLineOil_Total = pd.concat((AirLineOil_Train, AirLineOil_Test), axis = 0)\n",
    "\n",
    "inputs  =AirLineOil_Total[len(AirLineOil_Total) - len(AirLineOil_Test) - timestep:].values\n",
    "inputs = inputs.reshape(inputs.shape[0],3)\n",
    "inputs = sc.transform(inputs)\n",
    "\n",
    "x_test = []\n",
    "#Creating similar data structure for test_set as we did for train_set earlier\n",
    "for i in range(timestep , len(inputs)):\n",
    "    x_test.append(inputs[i - timestep:i,:])\n",
    "    \n",
    "#Reshaping x_train and y_train to numpy array format.\n",
    "x_test = np.array(x_test) \n",
    "\n",
    "# Need all 3 dimensions, AA previous 120 stock prices, United Stock Price, OPEC Crude Oil price\n",
    "x_test = np.reshape(a = x_test, newshape = (x_test.shape[0], x_test.shape[1],3))\n",
    "\n",
    "predicted_stock_price = regressor.predict(x_test)\n",
    "predicted_stock_price = pd.DataFrame(predicted_stock_price)\n",
    "ual = pd.DataFrame(test_set[:,1])\n",
    "oil = pd.DataFrame(test_set[:,2])\n",
    "predicted_stock_price = pd.concat([predicted_stock_price, ual, oil], axis =1 )\n",
    "test_set = sc.transform(test_set)\n",
    "predicted_stock_price = sc.inverse_transform(predicted_stock_price)\n",
    "\n",
    "\n",
    "predicted_stock_price = pd.DataFrame(predicted_stock_price[:,0])\n",
    "predicted_stock_price.index = AirLineOil_Test.index\n",
    "predicted_stock_price.index.to_datetime()"
   ]
  },
  {
   "cell_type": "code",
   "execution_count": 19,
   "metadata": {},
   "outputs": [
    {
     "data": {
      "image/png": "[encoded data removed]",
      "text/plain": [
       "<matplotlib.figure.Figure at 0x21ff4c83940>"
      ]
     },
     "metadata": {},
     "output_type": "display_data"
    }
   ],
   "source": [
    "# Visualising the results\n",
    "import seaborn as sns\n",
    "plt.figure(figsize = (20,10))\n",
    "plt.plot(AirLineOil_Test['AAL'].values, color = 'red', label = 'Real American Airlines Stock Price')\n",
    "plt.plot(predicted_stock_price[0], color = 'blue', label = 'Predicted American Airlines Stock Price')\n",
    "plt.title('American Airlines Stock Price Prediction')\n",
    "plt.xlabel('Date')\n",
    "plt.ylabel('AAL Stock Price')\n",
    "plt.legend()\n",
    "plt.tight_layout()\n",
    "plt.savefig(\"Result.png\")\n",
    "plt.show()\n"
   ]
  },
  {
   "cell_type": "code",
   "execution_count": null,
   "metadata": {
    "collapsed": true
   },
   "outputs": [],
   "source": []
  }
 ],
 "metadata": {
  "kernelspec": {
   "display_name": "Python 3",
   "language": "python",
   "name": "python3"
  },
  "language_info": {
   "codemirror_mode": {
    "name": "ipython",
    "version": 3
   },
   "file_extension": ".py",
   "mimetype": "text/x-python",
   "name": "python",
   "nbconvert_exporter": "python",
   "pygments_lexer": "ipython3",
   "version": "3.5.4"
  }
 },
 "nbformat": 4,
 "nbformat_minor": 2
}
