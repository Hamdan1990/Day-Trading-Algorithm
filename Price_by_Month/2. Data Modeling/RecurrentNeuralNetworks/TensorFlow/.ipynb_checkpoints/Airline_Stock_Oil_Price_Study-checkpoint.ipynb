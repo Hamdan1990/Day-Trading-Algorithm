{
 "cells": [
  {
   "cell_type": "code",
   "execution_count": 1,
   "metadata": {
    "collapsed": true
   },
   "outputs": [],
   "source": [
    "import numpy as np\n",
    "import pandas as pd\n",
    "import matplotlib.pyplot as plt\n",
    "%matplotlib inline"
   ]
  },
  {
   "cell_type": "code",
   "execution_count": 2,
   "metadata": {
    "collapsed": true
   },
   "outputs": [],
   "source": [
    "AirLineOil_Train = pd.read_csv('Training.csv', index_col = 'Date', infer_datetime_format=True)\n",
    "\n",
    "#Getting Dimensions\n",
    "TotalRows = AirLineOil_Train.shape[0]\n",
    "TotalColumns = AirLineOil_Train.shape[1]\n",
    "\n",
    "#Need to convert the training set into a numpy array as keras only takes in numpy array\n",
    "train_set  = AirLineOil_Train.values.reshape(TotalRows, TotalColumns)"
   ]
  },
  {
   "cell_type": "code",
   "execution_count": 3,
   "metadata": {
    "collapsed": true
   },
   "outputs": [],
   "source": [
    "#feature scaling\n",
    "from sklearn.preprocessing import MinMaxScaler\n",
    "sc = MinMaxScaler(feature_range=(0,1))\n",
    "train_set_scaled= sc.fit_transform(train_set)"
   ]
  },
  {
   "cell_type": "code",
   "execution_count": 4,
   "metadata": {
    "collapsed": true
   },
   "outputs": [],
   "source": [
    "x_train = []\n",
    "y_train = []\n",
    "timestep = 120 # 20 Financial Days in 1 month, 120 timesteps = 12 Months (1 Financial Year)\n",
    "\n",
    "#Creating a data structure with 120 timesteps and 1 output\n",
    "\n",
    "for i in range(timestep , TotalRows):\n",
    "    x_train.append(train_set_scaled[i - timestep:i,:])\n",
    "    y_train.append(train_set_scaled[i,0])\n",
    "\n",
    "#We iterated over entire datasets, and included for each row in x_train, 120 (timestep) previous stock prices\n",
    "#and in y_train the 121th stock price. The Goal is to predict timestep + 1 stock price by using timestep stock prices.\n",
    "#In addition, we are adding multiple other indicator over here to better model the stock prices for American Airlines. \n",
    "#We have two additional indicators, United Airlines Stock Price and Crude Oil prices from OPEC."
   ]
  },
  {
   "cell_type": "code",
   "execution_count": 5,
   "metadata": {
    "collapsed": true
   },
   "outputs": [],
   "source": [
    "#Reshaping x_train and y_train to numpy array format.\n",
    "x_train , y_train = np.array(x_train) , np.array(y_train)\n",
    "\n",
    "x_train = np.reshape(a = x_train, newshape =  (x_train.shape[0], x_train.shape[1], 3) )"
   ]
  },
  {
   "cell_type": "code",
   "execution_count": 6,
   "metadata": {
    "collapsed": true
   },
   "outputs": [],
   "source": [
    "import tensorflow as tf"
   ]
  },
  {
   "cell_type": "code",
   "execution_count": null,
   "metadata": {
    "collapsed": true
   },
   "outputs": [],
   "source": [
    "#Architecture of the recurrent neural network\n",
    "\n",
    "# Initializing the RNN\n",
    "regressor = tf.keras.models.Sequential()\n",
    "\n",
    "# Adding the first LSTM layer and some Dropout regularisation\n",
    "regressor.add(tf.keras.layers.GRU(units=100, return_sequences = True, input_shape = (x_train.shape[1], 3)))\n",
    "regressor.add(tf.keras.layers.Dropout(0.3))\n",
    "\n",
    "# Adding the second LSTM layer and some Dropout regularisation\n",
    "regressor.add(tf.keras.layers.GRU(units=100, return_sequences = True))\n",
    "regressor.add(tf.keras.layers.Dropout(0.3))\n",
    "\n",
    "# Adding the third LSTM layer and some Dropout regularisation\n",
    "regressor.add(tf.keras.layers.GRU(units=100, return_sequences = True))\n",
    "regressor.add(tf.keras.layers.Dropout(0.3))\n",
    "\n",
    "# Adding the third LSTM layer and some Dropout regularisation\n",
    "regressor.add(tf.keras.layers.GRU(units=100, return_sequences = True))\n",
    "regressor.add(tf.keras.layers.Dropout(0.3))\n",
    "\n",
    "# Adding the third LSTM layer and some Dropout regularisation\n",
    "regressor.add(tf.keras.layers.GRU(units=100, return_sequences = True))\n",
    "regressor.add(tf.keras.layers.Dropout(0.3))\n",
    "\n",
    "# Adding the fourth LSTM layer and some Dropout regularisation\n",
    "regressor.add(tf.keras.layers.GRU(units=100))\n",
    "regressor.add(tf.keras.layers.Dropout(0.3))\n",
    "\n",
    "\n",
    "# Adding the output layer\n",
    "regressor.add(tf.keras.layers.Dense(units=1 ))\n",
    "\n",
    "# Compiling the RNN\n",
    "regressor.compile(optimizer= 'adam', loss='mean_squared_error')"
   ]
  },
  {
   "cell_type": "code",
   "execution_count": null,
   "metadata": {},
   "outputs": [
    {
     "name": "stdout",
     "output_type": "stream",
     "text": [
      "Epoch 1/100\n",
      "2416/2416 [==============================] - 39s - loss: 0.0226    \n",
      "Epoch 2/100\n",
      "2416/2416 [==============================] - 32s - loss: 0.0102    \n",
      "Epoch 3/100\n",
      "2416/2416 [==============================] - 35s - loss: 0.0084    \n",
      "Epoch 4/100\n",
      "2416/2416 [==============================] - 39s - loss: 0.0060    \n",
      "Epoch 5/100\n",
      "2416/2416 [==============================] - 32s - loss: 0.0058    \n",
      "Epoch 6/100\n",
      "2416/2416 [==============================] - 32s - loss: 0.0058    \n",
      "Epoch 7/100\n",
      "2416/2416 [==============================] - 32s - loss: 0.0051    \n",
      "Epoch 8/100\n",
      "2416/2416 [==============================] - 33s - loss: 0.0043    \n",
      "Epoch 9/100\n",
      "2416/2416 [==============================] - 35s - loss: 0.0050    \n",
      "Epoch 10/100\n",
      "2416/2416 [==============================] - 32s - loss: 0.0044    \n",
      "Epoch 11/100\n",
      "2416/2416 [==============================] - 37s - loss: 0.0044    \n",
      "Epoch 12/100\n",
      "2416/2416 [==============================] - 40s - loss: 0.0037    \n",
      "Epoch 13/100\n",
      "2416/2416 [==============================] - 37s - loss: 0.0035    \n",
      "Epoch 14/100\n",
      "2416/2416 [==============================] - 37s - loss: 0.0038    \n",
      "Epoch 15/100\n",
      "2416/2416 [==============================] - 38s - loss: 0.0035    \n",
      "Epoch 16/100\n",
      "2416/2416 [==============================] - 38s - loss: 0.0033    \n",
      "Epoch 17/100\n",
      "2416/2416 [==============================] - 38s - loss: 0.0036    \n",
      "Epoch 18/100\n",
      "2416/2416 [==============================] - 36s - loss: 0.0039    \n",
      "Epoch 19/100\n",
      "2416/2416 [==============================] - 36s - loss: 0.0035    \n",
      "Epoch 20/100\n",
      "2416/2416 [==============================] - 36s - loss: 0.0035    \n",
      "Epoch 21/100\n",
      "2416/2416 [==============================] - 36s - loss: 0.0031    \n",
      "Epoch 22/100\n",
      "2416/2416 [==============================] - 36s - loss: 0.0029    \n",
      "Epoch 23/100\n",
      "2416/2416 [==============================] - 36s - loss: 0.0032    \n",
      "Epoch 24/100\n",
      "2416/2416 [==============================] - 36s - loss: 0.0029    \n",
      "Epoch 25/100\n",
      "2416/2416 [==============================] - 36s - loss: 0.0028    \n",
      "Epoch 26/100\n",
      "2416/2416 [==============================] - 36s - loss: 0.0030    \n",
      "Epoch 27/100\n",
      "2416/2416 [==============================] - 36s - loss: 0.0027    \n",
      "Epoch 28/100\n",
      "2416/2416 [==============================] - 36s - loss: 0.0030    \n",
      "Epoch 29/100\n",
      "2416/2416 [==============================] - 36s - loss: 0.0027    \n",
      "Epoch 30/100\n",
      "2416/2416 [==============================] - 36s - loss: 0.0028    \n",
      "Epoch 31/100\n",
      "2416/2416 [==============================] - 36s - loss: 0.0025    \n",
      "Epoch 32/100\n",
      "2416/2416 [==============================] - 36s - loss: 0.0028    \n",
      "Epoch 33/100\n",
      "2416/2416 [==============================] - 36s - loss: 0.0025    \n",
      "Epoch 34/100\n",
      "2416/2416 [==============================] - 36s - loss: 0.0027    \n",
      "Epoch 35/100\n",
      "2416/2416 [==============================] - 36s - loss: 0.0028    \n",
      "Epoch 36/100\n",
      "2416/2416 [==============================] - 36s - loss: 0.0027    \n",
      "Epoch 37/100\n",
      "2416/2416 [==============================] - 36s - loss: 0.0026    \n",
      "Epoch 38/100\n",
      "2416/2416 [==============================] - 36s - loss: 0.0025    \n",
      "Epoch 39/100\n",
      "2416/2416 [==============================] - 36s - loss: 0.0026    \n",
      "Epoch 40/100\n",
      "2416/2416 [==============================] - 36s - loss: 0.0027    \n",
      "Epoch 41/100\n",
      "2416/2416 [==============================] - 36s - loss: 0.0023    \n",
      "Epoch 42/100\n",
      "2416/2416 [==============================] - 36s - loss: 0.0025    \n",
      "Epoch 43/100\n",
      "2416/2416 [==============================] - 36s - loss: 0.0024    \n",
      "Epoch 44/100\n",
      "2416/2416 [==============================] - 36s - loss: 0.0024    \n",
      "Epoch 45/100\n",
      "2416/2416 [==============================] - 36s - loss: 0.0024    \n",
      "Epoch 46/100\n",
      "2416/2416 [==============================] - 39s - loss: 0.0026    \n",
      "Epoch 47/100\n",
      "2416/2416 [==============================] - 38s - loss: 0.0024    \n",
      "Epoch 48/100\n",
      "2416/2416 [==============================] - 41s - loss: 0.0029    \n",
      "Epoch 49/100\n",
      "2416/2416 [==============================] - 39s - loss: 0.0022    \n",
      "Epoch 50/100\n",
      "1952/2416 [=======================>......] - ETA: 8s - loss: 0.0023"
     ]
    }
   ],
   "source": [
    "# Fitting the RNN to the Training Set\n",
    "regressor.fit(x_train, y_train, epochs = 100, batch_size = 32)"
   ]
  },
  {
   "cell_type": "code",
   "execution_count": null,
   "metadata": {
    "collapsed": true
   },
   "outputs": [],
   "source": [
    "# Prediction\n",
    "\n",
    "## Here the test_set represents the real American Airlines Stock Open Price for Feb 2017 - 20 financial days\n",
    "AirLineOil_Test = pd.read_csv('Test.csv', index_col = 'Date', infer_datetime_format = True)\n",
    "\n",
    "test_set = AirLineOil_Test.values.reshape(20,3)\n",
    "\n",
    "\n",
    "\n",
    "#We trained our model to predict stock price based upon the stock prices of the last 120 financial days\n",
    "#Therefore we are going to need previous 120 days of stock prices for each financial day of Feb. in the test_set\n",
    "#Creating a DataFrame containing American Airlines Open Stock Price from both the training and test set\n",
    "AirLineOil_Total = pd.concat((AirLineOil_Train, AirLineOil_Test), axis = 0)\n",
    "\n",
    "inputs  =AirLineOil_Total[len(AirLineOil_Total) - len(AirLineOil_Test) - timestep:].values\n",
    "inputs = inputs.reshape(inputs.shape[0],3)\n",
    "inputs = sc.transform(inputs)\n",
    "\n",
    "x_test = []\n",
    "#Creating similar data structure for test_set as we did for train_set earlier\n",
    "for i in range(timestep , len(inputs)):\n",
    "    x_test.append(inputs[i - timestep:i,:])\n",
    "    \n",
    "#Reshaping x_train and y_train to numpy array format.\n",
    "x_test = np.array(x_test) \n",
    "\n",
    "# Need all 3 dimensions, AA previous 120 stock prices, United Stock Price, OPEC Crude Oil price\n",
    "x_test = np.reshape(a = x_test, newshape = (x_test.shape[0], x_test.shape[1],3))\n",
    "\n",
    "predicted_stock_price = regressor.predict(x_test)\n",
    "predicted_stock_price = pd.DataFrame(predicted_stock_price)\n",
    "ual = pd.DataFrame(test_set[:,1])\n",
    "oil = pd.DataFrame(test_set[:,2])\n",
    "predicted_stock_price = pd.concat([predicted_stock_price, ual, oil], axis =1 )\n",
    "test_set = sc.transform(test_set)\n",
    "predicted_stock_price = sc.inverse_transform(predicted_stock_price)\n",
    "\n",
    "\n",
    "predicted_stock_price = pd.DataFrame(predicted_stock_price[:,0])\n",
    "predicted_stock_price.index = AirLineOil_Test.index"
   ]
  },
  {
   "cell_type": "code",
   "execution_count": null,
   "metadata": {
    "collapsed": true
   },
   "outputs": [],
   "source": [
    "# Visualising the results\n",
    "import seaborn as sns\n",
    "plt.figure(figsize = (16,8))\n",
    "plt.plot(AirLineOil_Test['AAL'].values, color = 'red', label = 'Real American Airlines Stock Price')\n",
    "plt.plot(predicted_stock_price[0], color = 'blue', label = 'Predicted American Airlines Stock Price')\n",
    "plt.title('Google Stock Price Prediction')\n",
    "plt.xlabel('Date')\n",
    "plt.ylabel('AAL Stock Price')\n",
    "plt.legend()\n",
    "plt.savefig(\"Result.png\")\n",
    "plt.show()\n"
   ]
  },
  {
   "cell_type": "code",
   "execution_count": null,
   "metadata": {
    "collapsed": true
   },
   "outputs": [],
   "source": []
  }
 ],
 "metadata": {
  "kernelspec": {
   "display_name": "Python 3",
   "language": "python",
   "name": "python3"
  },
  "language_info": {
   "codemirror_mode": {
    "name": "ipython",
    "version": 3
   },
   "file_extension": ".py",
   "mimetype": "text/x-python",
   "name": "python",
   "nbconvert_exporter": "python",
   "pygments_lexer": "ipython3",
   "version": "3.5.4"
  }
 },
 "nbformat": 4,
 "nbformat_minor": 2
}
